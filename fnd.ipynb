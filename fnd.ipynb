{
  "cells": [
    {
      "cell_type": "code",
      "execution_count": 1,
      "metadata": {
        "colab": {
          "base_uri": "https://localhost:8080/",
          "height": 142
        },
        "id": "R_uOdjSXzphb",
        "outputId": "daadb634-f308-495b-be82-14541094b0a7"
      },
      "outputs": [
        {
          "output_type": "display_data",
          "data": {
            "text/plain": [
              "<IPython.core.display.HTML object>"
            ],
            "text/html": [
              "\n",
              "     <input type=\"file\" id=\"files-6d6c213b-97cc-405a-bcba-f21abf80e0f4\" name=\"files[]\" multiple disabled\n",
              "        style=\"border:none\" />\n",
              "     <output id=\"result-6d6c213b-97cc-405a-bcba-f21abf80e0f4\">\n",
              "      Upload widget is only available when the cell has been executed in the\n",
              "      current browser session. Please rerun this cell to enable.\n",
              "      </output>\n",
              "      <script>// Copyright 2017 Google LLC\n",
              "//\n",
              "// Licensed under the Apache License, Version 2.0 (the \"License\");\n",
              "// you may not use this file except in compliance with the License.\n",
              "// You may obtain a copy of the License at\n",
              "//\n",
              "//      http://www.apache.org/licenses/LICENSE-2.0\n",
              "//\n",
              "// Unless required by applicable law or agreed to in writing, software\n",
              "// distributed under the License is distributed on an \"AS IS\" BASIS,\n",
              "// WITHOUT WARRANTIES OR CONDITIONS OF ANY KIND, either express or implied.\n",
              "// See the License for the specific language governing permissions and\n",
              "// limitations under the License.\n",
              "\n",
              "/**\n",
              " * @fileoverview Helpers for google.colab Python module.\n",
              " */\n",
              "(function(scope) {\n",
              "function span(text, styleAttributes = {}) {\n",
              "  const element = document.createElement('span');\n",
              "  element.textContent = text;\n",
              "  for (const key of Object.keys(styleAttributes)) {\n",
              "    element.style[key] = styleAttributes[key];\n",
              "  }\n",
              "  return element;\n",
              "}\n",
              "\n",
              "// Max number of bytes which will be uploaded at a time.\n",
              "const MAX_PAYLOAD_SIZE = 100 * 1024;\n",
              "\n",
              "function _uploadFiles(inputId, outputId) {\n",
              "  const steps = uploadFilesStep(inputId, outputId);\n",
              "  const outputElement = document.getElementById(outputId);\n",
              "  // Cache steps on the outputElement to make it available for the next call\n",
              "  // to uploadFilesContinue from Python.\n",
              "  outputElement.steps = steps;\n",
              "\n",
              "  return _uploadFilesContinue(outputId);\n",
              "}\n",
              "\n",
              "// This is roughly an async generator (not supported in the browser yet),\n",
              "// where there are multiple asynchronous steps and the Python side is going\n",
              "// to poll for completion of each step.\n",
              "// This uses a Promise to block the python side on completion of each step,\n",
              "// then passes the result of the previous step as the input to the next step.\n",
              "function _uploadFilesContinue(outputId) {\n",
              "  const outputElement = document.getElementById(outputId);\n",
              "  const steps = outputElement.steps;\n",
              "\n",
              "  const next = steps.next(outputElement.lastPromiseValue);\n",
              "  return Promise.resolve(next.value.promise).then((value) => {\n",
              "    // Cache the last promise value to make it available to the next\n",
              "    // step of the generator.\n",
              "    outputElement.lastPromiseValue = value;\n",
              "    return next.value.response;\n",
              "  });\n",
              "}\n",
              "\n",
              "/**\n",
              " * Generator function which is called between each async step of the upload\n",
              " * process.\n",
              " * @param {string} inputId Element ID of the input file picker element.\n",
              " * @param {string} outputId Element ID of the output display.\n",
              " * @return {!Iterable<!Object>} Iterable of next steps.\n",
              " */\n",
              "function* uploadFilesStep(inputId, outputId) {\n",
              "  const inputElement = document.getElementById(inputId);\n",
              "  inputElement.disabled = false;\n",
              "\n",
              "  const outputElement = document.getElementById(outputId);\n",
              "  outputElement.innerHTML = '';\n",
              "\n",
              "  const pickedPromise = new Promise((resolve) => {\n",
              "    inputElement.addEventListener('change', (e) => {\n",
              "      resolve(e.target.files);\n",
              "    });\n",
              "  });\n",
              "\n",
              "  const cancel = document.createElement('button');\n",
              "  inputElement.parentElement.appendChild(cancel);\n",
              "  cancel.textContent = 'Cancel upload';\n",
              "  const cancelPromise = new Promise((resolve) => {\n",
              "    cancel.onclick = () => {\n",
              "      resolve(null);\n",
              "    };\n",
              "  });\n",
              "\n",
              "  // Wait for the user to pick the files.\n",
              "  const files = yield {\n",
              "    promise: Promise.race([pickedPromise, cancelPromise]),\n",
              "    response: {\n",
              "      action: 'starting',\n",
              "    }\n",
              "  };\n",
              "\n",
              "  cancel.remove();\n",
              "\n",
              "  // Disable the input element since further picks are not allowed.\n",
              "  inputElement.disabled = true;\n",
              "\n",
              "  if (!files) {\n",
              "    return {\n",
              "      response: {\n",
              "        action: 'complete',\n",
              "      }\n",
              "    };\n",
              "  }\n",
              "\n",
              "  for (const file of files) {\n",
              "    const li = document.createElement('li');\n",
              "    li.append(span(file.name, {fontWeight: 'bold'}));\n",
              "    li.append(span(\n",
              "        `(${file.type || 'n/a'}) - ${file.size} bytes, ` +\n",
              "        `last modified: ${\n",
              "            file.lastModifiedDate ? file.lastModifiedDate.toLocaleDateString() :\n",
              "                                    'n/a'} - `));\n",
              "    const percent = span('0% done');\n",
              "    li.appendChild(percent);\n",
              "\n",
              "    outputElement.appendChild(li);\n",
              "\n",
              "    const fileDataPromise = new Promise((resolve) => {\n",
              "      const reader = new FileReader();\n",
              "      reader.onload = (e) => {\n",
              "        resolve(e.target.result);\n",
              "      };\n",
              "      reader.readAsArrayBuffer(file);\n",
              "    });\n",
              "    // Wait for the data to be ready.\n",
              "    let fileData = yield {\n",
              "      promise: fileDataPromise,\n",
              "      response: {\n",
              "        action: 'continue',\n",
              "      }\n",
              "    };\n",
              "\n",
              "    // Use a chunked sending to avoid message size limits. See b/62115660.\n",
              "    let position = 0;\n",
              "    do {\n",
              "      const length = Math.min(fileData.byteLength - position, MAX_PAYLOAD_SIZE);\n",
              "      const chunk = new Uint8Array(fileData, position, length);\n",
              "      position += length;\n",
              "\n",
              "      const base64 = btoa(String.fromCharCode.apply(null, chunk));\n",
              "      yield {\n",
              "        response: {\n",
              "          action: 'append',\n",
              "          file: file.name,\n",
              "          data: base64,\n",
              "        },\n",
              "      };\n",
              "\n",
              "      let percentDone = fileData.byteLength === 0 ?\n",
              "          100 :\n",
              "          Math.round((position / fileData.byteLength) * 100);\n",
              "      percent.textContent = `${percentDone}% done`;\n",
              "\n",
              "    } while (position < fileData.byteLength);\n",
              "  }\n",
              "\n",
              "  // All done.\n",
              "  yield {\n",
              "    response: {\n",
              "      action: 'complete',\n",
              "    }\n",
              "  };\n",
              "}\n",
              "\n",
              "scope.google = scope.google || {};\n",
              "scope.google.colab = scope.google.colab || {};\n",
              "scope.google.colab._files = {\n",
              "  _uploadFiles,\n",
              "  _uploadFilesContinue,\n",
              "};\n",
              "})(self);\n",
              "</script> "
            ]
          },
          "metadata": {}
        },
        {
          "output_type": "stream",
          "name": "stdout",
          "text": [
            "Saving test2.jsonl to test2.jsonl\n",
            "Saving train2.jsonl to train2.jsonl\n",
            "Saving val2.jsonl to val2.jsonl\n"
          ]
        }
      ],
      "source": [
        "from google.colab import files\n",
        "\n",
        "uploaded = files.upload()"
      ]
    },
    {
      "cell_type": "markdown",
      "metadata": {
        "id": "8XSOJPeyGwdR"
      },
      "source": [
        "**Importing libraries**"
      ]
    },
    {
      "cell_type": "code",
      "execution_count": 2,
      "metadata": {
        "id": "b1VFRk_P4D6s"
      },
      "outputs": [],
      "source": [
        "import json\n",
        "import pandas as pd\n",
        "import numpy as np\n",
        "import os\n",
        "import pickle\n",
        "import spacy\n",
        "import logging\n",
        "from sklearn.model_selection import train_test_split\n",
        "from sklearn.ensemble import RandomForestClassifier\n",
        "from sklearn.metrics import classification_report, accuracy_score\n",
        "from sklearn.feature_extraction.text import TfidfVectorizer\n",
        "from sklearn.base import BaseEstimator, TransformerMixin\n",
        "from textblob import TextBlob\n",
        "from sklearn.pipeline import FeatureUnion\n",
        "\n"
      ]
    },
    {
      "cell_type": "markdown",
      "metadata": {
        "id": "3iGaVh3PG5tV"
      },
      "source": [
        "**Loading Data**"
      ]
    },
    {
      "cell_type": "code",
      "execution_count": 3,
      "metadata": {
        "colab": {
          "base_uri": "https://localhost:8080/"
        },
        "id": "9U_P0XWs4R4n",
        "outputId": "5cbc0363-243b-46d5-90b4-dc4c699108a9"
      },
      "outputs": [
        {
          "output_type": "stream",
          "name": "stdout",
          "text": [
            "Training Data loaded 10269  records\n",
            "Test Data loaded  1283  records\n",
            "Validation Data loaded  1284  records\n"
          ]
        }
      ],
      "source": [
        "def load_jsonl(file_path):\n",
        "    data = []\n",
        "    with open(file_path, 'r') as f:\n",
        "        for line in f:\n",
        "            data.append(json.loads(line))\n",
        "    return pd.DataFrame(data)\n",
        "\n",
        "train_data = load_jsonl('train2.jsonl')\n",
        "test_data = load_jsonl('test2.jsonl')\n",
        "val_data = load_jsonl('val2.jsonl')\n",
        "\n",
        "print(\"Training Data loaded\", len(train_data),\" records\")\n",
        "print(\"Test Data loaded \", len(test_data),\" records\")\n",
        "print(\"Validation Data loaded \", len(val_data),\" records\")\n"
      ]
    },
    {
      "cell_type": "markdown",
      "metadata": {
        "id": "DfLi4Og8HoqQ"
      },
      "source": [
        "**Normanlising labels**"
      ]
    },
    {
      "cell_type": "code",
      "execution_count": 4,
      "metadata": {
        "id": "OsKWiqCc4TfJ"
      },
      "outputs": [],
      "source": [
        "def normalize_labels(dataframe):\n",
        "    label_map = {\n",
        "        \"pants-fire\": False,\n",
        "        \"barely-true\": False,\n",
        "        \"false\": False,\n",
        "        \"half-true\": True,\n",
        "        \"mostly-true\": True,\n",
        "        \"true\": True\n",
        "    }\n",
        "    dataframe['label'] = dataframe['label'].map(label_map)\n",
        "    return dataframe\n",
        "\n",
        "train_data = normalize_labels(train_data)\n",
        "test_data = normalize_labels(test_data)\n",
        "val_data = normalize_labels(val_data)\n"
      ]
    },
    {
      "cell_type": "code",
      "execution_count": 5,
      "metadata": {
        "colab": {
          "base_uri": "https://localhost:8080/",
          "height": 293
        },
        "id": "cMVAr9JjEurg",
        "outputId": "98f359c7-f919-4763-a8b9-c24115aca0aa"
      },
      "outputs": [
        {
          "output_type": "execute_result",
          "data": {
            "text/plain": [
              "   id json_file_id  label                                              claim  \\\n",
              "0   0    2635.json  False  Says the Annies List political group supports ...   \n",
              "1   1   10540.json   True  When did the decline of coal start? It started...   \n",
              "2   2     324.json   True  \"Hillary Clinton agrees with John McCain \"\"by ...   \n",
              "3   3    1123.json  False  Health care reform legislation is likely to ma...   \n",
              "4   4    9028.json   True  The economic turnaround started at the end of ...   \n",
              "\n",
              "                                   topics      originator  \\\n",
              "0                              [abortion]    dwayne-bohac   \n",
              "1  [energy, history, job-accomplishments]  scott-surovell   \n",
              "2                        [foreign-policy]    barack-obama   \n",
              "3                           [health-care]    blog-posting   \n",
              "4                         [economy, jobs]   charlie-crist   \n",
              "\n",
              "                  title     party  \\\n",
              "0  State representative     Texas   \n",
              "1        State delegate  Virginia   \n",
              "2             President  Illinois   \n",
              "3                                   \n",
              "4                         Florida   \n",
              "\n",
              "                                       justification  \n",
              "0  That's a premise that he fails to back up. Ann...  \n",
              "1  \"Surovell said the decline of coal \"\"started w...  \n",
              "2  \"Obama said he would have voted against the am...  \n",
              "3  \"The release may have a point that Mikulskis c...  \n",
              "4  \"Crist said that the economic \"\"turnaround sta...  "
            ],
            "text/html": [
              "\n",
              "  <div id=\"df-8dc7e910-6f96-4f72-bfc9-d6b041ad9ce0\" class=\"colab-df-container\">\n",
              "    <div>\n",
              "<style scoped>\n",
              "    .dataframe tbody tr th:only-of-type {\n",
              "        vertical-align: middle;\n",
              "    }\n",
              "\n",
              "    .dataframe tbody tr th {\n",
              "        vertical-align: top;\n",
              "    }\n",
              "\n",
              "    .dataframe thead th {\n",
              "        text-align: right;\n",
              "    }\n",
              "</style>\n",
              "<table border=\"1\" class=\"dataframe\">\n",
              "  <thead>\n",
              "    <tr style=\"text-align: right;\">\n",
              "      <th></th>\n",
              "      <th>id</th>\n",
              "      <th>json_file_id</th>\n",
              "      <th>label</th>\n",
              "      <th>claim</th>\n",
              "      <th>topics</th>\n",
              "      <th>originator</th>\n",
              "      <th>title</th>\n",
              "      <th>party</th>\n",
              "      <th>justification</th>\n",
              "    </tr>\n",
              "  </thead>\n",
              "  <tbody>\n",
              "    <tr>\n",
              "      <th>0</th>\n",
              "      <td>0</td>\n",
              "      <td>2635.json</td>\n",
              "      <td>False</td>\n",
              "      <td>Says the Annies List political group supports ...</td>\n",
              "      <td>[abortion]</td>\n",
              "      <td>dwayne-bohac</td>\n",
              "      <td>State representative</td>\n",
              "      <td>Texas</td>\n",
              "      <td>That's a premise that he fails to back up. Ann...</td>\n",
              "    </tr>\n",
              "    <tr>\n",
              "      <th>1</th>\n",
              "      <td>1</td>\n",
              "      <td>10540.json</td>\n",
              "      <td>True</td>\n",
              "      <td>When did the decline of coal start? It started...</td>\n",
              "      <td>[energy, history, job-accomplishments]</td>\n",
              "      <td>scott-surovell</td>\n",
              "      <td>State delegate</td>\n",
              "      <td>Virginia</td>\n",
              "      <td>\"Surovell said the decline of coal \"\"started w...</td>\n",
              "    </tr>\n",
              "    <tr>\n",
              "      <th>2</th>\n",
              "      <td>2</td>\n",
              "      <td>324.json</td>\n",
              "      <td>True</td>\n",
              "      <td>\"Hillary Clinton agrees with John McCain \"\"by ...</td>\n",
              "      <td>[foreign-policy]</td>\n",
              "      <td>barack-obama</td>\n",
              "      <td>President</td>\n",
              "      <td>Illinois</td>\n",
              "      <td>\"Obama said he would have voted against the am...</td>\n",
              "    </tr>\n",
              "    <tr>\n",
              "      <th>3</th>\n",
              "      <td>3</td>\n",
              "      <td>1123.json</td>\n",
              "      <td>False</td>\n",
              "      <td>Health care reform legislation is likely to ma...</td>\n",
              "      <td>[health-care]</td>\n",
              "      <td>blog-posting</td>\n",
              "      <td></td>\n",
              "      <td></td>\n",
              "      <td>\"The release may have a point that Mikulskis c...</td>\n",
              "    </tr>\n",
              "    <tr>\n",
              "      <th>4</th>\n",
              "      <td>4</td>\n",
              "      <td>9028.json</td>\n",
              "      <td>True</td>\n",
              "      <td>The economic turnaround started at the end of ...</td>\n",
              "      <td>[economy, jobs]</td>\n",
              "      <td>charlie-crist</td>\n",
              "      <td></td>\n",
              "      <td>Florida</td>\n",
              "      <td>\"Crist said that the economic \"\"turnaround sta...</td>\n",
              "    </tr>\n",
              "  </tbody>\n",
              "</table>\n",
              "</div>\n",
              "    <div class=\"colab-df-buttons\">\n",
              "\n",
              "  <div class=\"colab-df-container\">\n",
              "    <button class=\"colab-df-convert\" onclick=\"convertToInteractive('df-8dc7e910-6f96-4f72-bfc9-d6b041ad9ce0')\"\n",
              "            title=\"Convert this dataframe to an interactive table.\"\n",
              "            style=\"display:none;\">\n",
              "\n",
              "  <svg xmlns=\"http://www.w3.org/2000/svg\" height=\"24px\" viewBox=\"0 -960 960 960\">\n",
              "    <path d=\"M120-120v-720h720v720H120Zm60-500h600v-160H180v160Zm220 220h160v-160H400v160Zm0 220h160v-160H400v160ZM180-400h160v-160H180v160Zm440 0h160v-160H620v160ZM180-180h160v-160H180v160Zm440 0h160v-160H620v160Z\"/>\n",
              "  </svg>\n",
              "    </button>\n",
              "\n",
              "  <style>\n",
              "    .colab-df-container {\n",
              "      display:flex;\n",
              "      gap: 12px;\n",
              "    }\n",
              "\n",
              "    .colab-df-convert {\n",
              "      background-color: #E8F0FE;\n",
              "      border: none;\n",
              "      border-radius: 50%;\n",
              "      cursor: pointer;\n",
              "      display: none;\n",
              "      fill: #1967D2;\n",
              "      height: 32px;\n",
              "      padding: 0 0 0 0;\n",
              "      width: 32px;\n",
              "    }\n",
              "\n",
              "    .colab-df-convert:hover {\n",
              "      background-color: #E2EBFA;\n",
              "      box-shadow: 0px 1px 2px rgba(60, 64, 67, 0.3), 0px 1px 3px 1px rgba(60, 64, 67, 0.15);\n",
              "      fill: #174EA6;\n",
              "    }\n",
              "\n",
              "    .colab-df-buttons div {\n",
              "      margin-bottom: 4px;\n",
              "    }\n",
              "\n",
              "    [theme=dark] .colab-df-convert {\n",
              "      background-color: #3B4455;\n",
              "      fill: #D2E3FC;\n",
              "    }\n",
              "\n",
              "    [theme=dark] .colab-df-convert:hover {\n",
              "      background-color: #434B5C;\n",
              "      box-shadow: 0px 1px 3px 1px rgba(0, 0, 0, 0.15);\n",
              "      filter: drop-shadow(0px 1px 2px rgba(0, 0, 0, 0.3));\n",
              "      fill: #FFFFFF;\n",
              "    }\n",
              "  </style>\n",
              "\n",
              "    <script>\n",
              "      const buttonEl =\n",
              "        document.querySelector('#df-8dc7e910-6f96-4f72-bfc9-d6b041ad9ce0 button.colab-df-convert');\n",
              "      buttonEl.style.display =\n",
              "        google.colab.kernel.accessAllowed ? 'block' : 'none';\n",
              "\n",
              "      async function convertToInteractive(key) {\n",
              "        const element = document.querySelector('#df-8dc7e910-6f96-4f72-bfc9-d6b041ad9ce0');\n",
              "        const dataTable =\n",
              "          await google.colab.kernel.invokeFunction('convertToInteractive',\n",
              "                                                    [key], {});\n",
              "        if (!dataTable) return;\n",
              "\n",
              "        const docLinkHtml = 'Like what you see? Visit the ' +\n",
              "          '<a target=\"_blank\" href=https://colab.research.google.com/notebooks/data_table.ipynb>data table notebook</a>'\n",
              "          + ' to learn more about interactive tables.';\n",
              "        element.innerHTML = '';\n",
              "        dataTable['output_type'] = 'display_data';\n",
              "        await google.colab.output.renderOutput(dataTable, element);\n",
              "        const docLink = document.createElement('div');\n",
              "        docLink.innerHTML = docLinkHtml;\n",
              "        element.appendChild(docLink);\n",
              "      }\n",
              "    </script>\n",
              "  </div>\n",
              "\n",
              "\n",
              "<div id=\"df-6d425438-48e1-4f81-9e6a-be329302d3cb\">\n",
              "  <button class=\"colab-df-quickchart\" onclick=\"quickchart('df-6d425438-48e1-4f81-9e6a-be329302d3cb')\"\n",
              "            title=\"Suggest charts\"\n",
              "            style=\"display:none;\">\n",
              "\n",
              "<svg xmlns=\"http://www.w3.org/2000/svg\" height=\"24px\"viewBox=\"0 0 24 24\"\n",
              "     width=\"24px\">\n",
              "    <g>\n",
              "        <path d=\"M19 3H5c-1.1 0-2 .9-2 2v14c0 1.1.9 2 2 2h14c1.1 0 2-.9 2-2V5c0-1.1-.9-2-2-2zM9 17H7v-7h2v7zm4 0h-2V7h2v10zm4 0h-2v-4h2v4z\"/>\n",
              "    </g>\n",
              "</svg>\n",
              "  </button>\n",
              "\n",
              "<style>\n",
              "  .colab-df-quickchart {\n",
              "      --bg-color: #E8F0FE;\n",
              "      --fill-color: #1967D2;\n",
              "      --hover-bg-color: #E2EBFA;\n",
              "      --hover-fill-color: #174EA6;\n",
              "      --disabled-fill-color: #AAA;\n",
              "      --disabled-bg-color: #DDD;\n",
              "  }\n",
              "\n",
              "  [theme=dark] .colab-df-quickchart {\n",
              "      --bg-color: #3B4455;\n",
              "      --fill-color: #D2E3FC;\n",
              "      --hover-bg-color: #434B5C;\n",
              "      --hover-fill-color: #FFFFFF;\n",
              "      --disabled-bg-color: #3B4455;\n",
              "      --disabled-fill-color: #666;\n",
              "  }\n",
              "\n",
              "  .colab-df-quickchart {\n",
              "    background-color: var(--bg-color);\n",
              "    border: none;\n",
              "    border-radius: 50%;\n",
              "    cursor: pointer;\n",
              "    display: none;\n",
              "    fill: var(--fill-color);\n",
              "    height: 32px;\n",
              "    padding: 0;\n",
              "    width: 32px;\n",
              "  }\n",
              "\n",
              "  .colab-df-quickchart:hover {\n",
              "    background-color: var(--hover-bg-color);\n",
              "    box-shadow: 0 1px 2px rgba(60, 64, 67, 0.3), 0 1px 3px 1px rgba(60, 64, 67, 0.15);\n",
              "    fill: var(--button-hover-fill-color);\n",
              "  }\n",
              "\n",
              "  .colab-df-quickchart-complete:disabled,\n",
              "  .colab-df-quickchart-complete:disabled:hover {\n",
              "    background-color: var(--disabled-bg-color);\n",
              "    fill: var(--disabled-fill-color);\n",
              "    box-shadow: none;\n",
              "  }\n",
              "\n",
              "  .colab-df-spinner {\n",
              "    border: 2px solid var(--fill-color);\n",
              "    border-color: transparent;\n",
              "    border-bottom-color: var(--fill-color);\n",
              "    animation:\n",
              "      spin 1s steps(1) infinite;\n",
              "  }\n",
              "\n",
              "  @keyframes spin {\n",
              "    0% {\n",
              "      border-color: transparent;\n",
              "      border-bottom-color: var(--fill-color);\n",
              "      border-left-color: var(--fill-color);\n",
              "    }\n",
              "    20% {\n",
              "      border-color: transparent;\n",
              "      border-left-color: var(--fill-color);\n",
              "      border-top-color: var(--fill-color);\n",
              "    }\n",
              "    30% {\n",
              "      border-color: transparent;\n",
              "      border-left-color: var(--fill-color);\n",
              "      border-top-color: var(--fill-color);\n",
              "      border-right-color: var(--fill-color);\n",
              "    }\n",
              "    40% {\n",
              "      border-color: transparent;\n",
              "      border-right-color: var(--fill-color);\n",
              "      border-top-color: var(--fill-color);\n",
              "    }\n",
              "    60% {\n",
              "      border-color: transparent;\n",
              "      border-right-color: var(--fill-color);\n",
              "    }\n",
              "    80% {\n",
              "      border-color: transparent;\n",
              "      border-right-color: var(--fill-color);\n",
              "      border-bottom-color: var(--fill-color);\n",
              "    }\n",
              "    90% {\n",
              "      border-color: transparent;\n",
              "      border-bottom-color: var(--fill-color);\n",
              "    }\n",
              "  }\n",
              "</style>\n",
              "\n",
              "  <script>\n",
              "    async function quickchart(key) {\n",
              "      const quickchartButtonEl =\n",
              "        document.querySelector('#' + key + ' button');\n",
              "      quickchartButtonEl.disabled = true;  // To prevent multiple clicks.\n",
              "      quickchartButtonEl.classList.add('colab-df-spinner');\n",
              "      try {\n",
              "        const charts = await google.colab.kernel.invokeFunction(\n",
              "            'suggestCharts', [key], {});\n",
              "      } catch (error) {\n",
              "        console.error('Error during call to suggestCharts:', error);\n",
              "      }\n",
              "      quickchartButtonEl.classList.remove('colab-df-spinner');\n",
              "      quickchartButtonEl.classList.add('colab-df-quickchart-complete');\n",
              "    }\n",
              "    (() => {\n",
              "      let quickchartButtonEl =\n",
              "        document.querySelector('#df-6d425438-48e1-4f81-9e6a-be329302d3cb button');\n",
              "      quickchartButtonEl.style.display =\n",
              "        google.colab.kernel.accessAllowed ? 'block' : 'none';\n",
              "    })();\n",
              "  </script>\n",
              "</div>\n",
              "\n",
              "    </div>\n",
              "  </div>\n"
            ],
            "application/vnd.google.colaboratory.intrinsic+json": {
              "type": "dataframe",
              "variable_name": "train_data",
              "summary": "{\n  \"name\": \"train_data\",\n  \"rows\": 10269,\n  \"fields\": [\n    {\n      \"column\": \"id\",\n      \"properties\": {\n        \"dtype\": \"number\",\n        \"std\": 2964,\n        \"min\": 0,\n        \"max\": 10268,\n        \"num_unique_values\": 10269,\n        \"samples\": [\n          9309,\n          7277,\n          2908\n        ],\n        \"semantic_type\": \"\",\n        \"description\": \"\"\n      }\n    },\n    {\n      \"column\": \"json_file_id\",\n      \"properties\": {\n        \"dtype\": \"string\",\n        \"num_unique_values\": 10269,\n        \"samples\": [\n          \"910.json\",\n          \"8207.json\",\n          \"5827.json\"\n        ],\n        \"semantic_type\": \"\",\n        \"description\": \"\"\n      }\n    },\n    {\n      \"column\": \"label\",\n      \"properties\": {\n        \"dtype\": \"boolean\",\n        \"num_unique_values\": 2,\n        \"samples\": [\n          true,\n          false\n        ],\n        \"semantic_type\": \"\",\n        \"description\": \"\"\n      }\n    },\n    {\n      \"column\": \"claim\",\n      \"properties\": {\n        \"dtype\": \"string\",\n        \"num_unique_values\": 10252,\n        \"samples\": [\n          \"Of the four statewide races this century within a 300-vote margin, three have been overturned in a recount.\",\n          \"The president's plan, even after the end of its withdrawal timeline is reached, will leave in place up to 50,000 U.S. troops.\"\n        ],\n        \"semantic_type\": \"\",\n        \"description\": \"\"\n      }\n    },\n    {\n      \"column\": \"topics\",\n      \"properties\": {\n        \"dtype\": \"object\",\n        \"semantic_type\": \"\",\n        \"description\": \"\"\n      }\n    },\n    {\n      \"column\": \"originator\",\n      \"properties\": {\n        \"dtype\": \"category\",\n        \"num_unique_values\": 2916,\n        \"samples\": [\n          \"physicians-committee-responsible-medicine\",\n          \"eddie-bernice-johnson\"\n        ],\n        \"semantic_type\": \"\",\n        \"description\": \"\"\n      }\n    },\n    {\n      \"column\": \"title\",\n      \"properties\": {\n        \"dtype\": \"category\",\n        \"num_unique_values\": 1188,\n        \"samples\": [\n          \"prresident, Guatemalan-American Alliance of Rhode Island\",\n          \"Director, American Worker Project\"\n        ],\n        \"semantic_type\": \"\",\n        \"description\": \"\"\n      }\n    },\n    {\n      \"column\": \"party\",\n      \"properties\": {\n        \"dtype\": \"category\",\n        \"num_unique_values\": 85,\n        \"samples\": [\n          \"Tennesse\",\n          \"Texas\"\n        ],\n        \"semantic_type\": \"\",\n        \"description\": \"\"\n      }\n    },\n    {\n      \"column\": \"justification\",\n      \"properties\": {\n        \"dtype\": \"string\",\n        \"num_unique_values\": 10146,\n        \"samples\": [\n          \"\\\"Poe said \\\"\\\"the costly medical device tax\\\"\\\" in the Obamacare law \\\"\\\"has led to the loss of thousands of jobs across the nation. \\\"\\\"News stories indicate more than 2,000 such cuts were planned or made partly because of the tax. An industry analyst has said that \\\"\\\"the tax is costing the industry thousands of jobs,\\\"\\\" but also told us that \\\"\\\"it's nearly impossible to determine if the tax alone was the cause of layoffs.\\\"\\n\",\n          \"Legislators, prosecutors and victims advocates gave Deal fair warning that they would wage war if he didn't back off. Still, Deal pursued the change until public protest reached a fevered pitch. And while he didn't fight to help rapists or hurt victims, he invested his political capital as second-in-command in the state Senate on behalf of a law that weakened the rape shield act.\\n\"\n        ],\n        \"semantic_type\": \"\",\n        \"description\": \"\"\n      }\n    }\n  ]\n}"
            }
          },
          "metadata": {},
          "execution_count": 5
        }
      ],
      "source": [
        "train_data.head()"
      ]
    },
    {
      "cell_type": "markdown",
      "metadata": {
        "id": "iRz24RNcIBHR"
      },
      "source": [
        "**Using TF-IDF for Text Data Representation**"
      ]
    },
    {
      "cell_type": "code",
      "execution_count": 6,
      "metadata": {
        "id": "Sy5o3rJ54bu7"
      },
      "outputs": [],
      "source": [
        "vectorizer = TfidfVectorizer(max_features=5000)\n",
        "X_train = vectorizer.fit_transform(train_data['claim']).toarray()\n",
        "y_train = train_data['label']\n",
        "\n",
        "X_test = vectorizer.transform(test_data['claim']).toarray()\n",
        "y_test = test_data['label']\n",
        "\n",
        "X_val = vectorizer.transform(val_data['claim']).toarray()\n",
        "y_val = val_data['label']\n"
      ]
    },
    {
      "cell_type": "markdown",
      "metadata": {
        "id": "uvh2AVQEIEPC"
      },
      "source": [
        "**Model bulding with Random Forest Classifier**"
      ]
    },
    {
      "cell_type": "code",
      "execution_count": 7,
      "metadata": {
        "colab": {
          "base_uri": "https://localhost:8080/"
        },
        "id": "3wT6jCU64dZz",
        "outputId": "6e2119f4-6b64-436a-8f9c-4934aeb37814"
      },
      "outputs": [
        {
          "output_type": "stream",
          "name": "stdout",
          "text": [
            "Model training complete.\n"
          ]
        }
      ],
      "source": [
        "model = RandomForestClassifier(n_estimators=100, random_state=42)\n",
        "model.fit(X_train, y_train)\n",
        "\n",
        "import pickle\n",
        "with open('random_forest_model.pkl', 'wb') as f:\n",
        "    pickle.dump(model, f)\n",
        "\n",
        "print(\"Model training complete.\")\n"
      ]
    },
    {
      "cell_type": "code",
      "execution_count": 8,
      "metadata": {
        "colab": {
          "base_uri": "https://localhost:8080/"
        },
        "id": "W9mCv1lV4fzU",
        "outputId": "4afbf275-7902-4817-ecea-05fb61316ee2"
      },
      "outputs": [
        {
          "output_type": "stream",
          "name": "stdout",
          "text": [
            "\n",
            "=== Evaluation Results ===\n",
            "Test Data Accuracy: 0.6118\n",
            "\n",
            "Test Data Classification Report:\n",
            "              precision    recall  f1-score      support\n",
            "False          0.570388  0.422662  0.485537   556.000000\n",
            "True           0.631458  0.756534  0.688360   727.000000\n",
            "accuracy       0.611847  0.611847  0.611847     0.611847\n",
            "macro avg      0.600923  0.589598  0.586949  1283.000000\n",
            "weighted avg   0.604993  0.611847  0.600465  1283.000000\n",
            "\n",
            "Validation Data Accuracy: 0.6246\n",
            "\n",
            "Validation Data Classification Report:\n",
            "              precision    recall  f1-score      support\n",
            "False          0.662621  0.443182  0.531128   616.000000\n",
            "True           0.606651  0.791916  0.687013   668.000000\n",
            "accuracy       0.624611  0.624611  0.624611     0.624611\n",
            "macro avg      0.634636  0.617549  0.609071  1284.000000\n",
            "weighted avg   0.633503  0.624611  0.612227  1284.000000\n"
          ]
        }
      ],
      "source": [
        "def evaluate_model(model, X, y, dataset_name):\n",
        "    y_pred = model.predict(X)\n",
        "    accuracy = accuracy_score(y, y_pred)\n",
        "    report = classification_report(y, y_pred, output_dict=True)\n",
        "    return accuracy, report\n",
        "test_accuracy, test_report = evaluate_model(model, X_test, y_test, \"Test Data\")\n",
        "val_accuracy, val_report = evaluate_model(model, X_val, y_val, \"Validation Data\")\n",
        "print(\"\\n=== Evaluation Results ===\")\n",
        "print(f\"Test Data Accuracy: {test_accuracy:.4f}\")\n",
        "print(\"\\nTest Data Classification Report:\")\n",
        "print(pd.DataFrame(test_report).T)\n",
        "\n",
        "print(f\"\\nValidation Data Accuracy: {val_accuracy:.4f}\")\n",
        "print(\"\\nValidation Data Classification Report:\")\n",
        "print(pd.DataFrame(val_report).T)\n"
      ]
    },
    {
      "cell_type": "markdown",
      "metadata": {
        "id": "dhe8P25nIRFF"
      },
      "source": [
        "**Predicting truthfulness of a sentence**"
      ]
    },
    {
      "cell_type": "code",
      "execution_count": 9,
      "metadata": {
        "id": "OyMEq7HBFf6q"
      },
      "outputs": [],
      "source": [
        "def predict_truthfulness(sentence):\n",
        "    sentence_df = pd.DataFrame({'claim': [sentence]})\n",
        "\n",
        "    # Transform the sentence into the same feature space as the training data\n",
        "    X_input = vectorizer.transform(sentence_df['claim']).toarray()\n",
        "    prediction = model.predict(X_input)\n",
        "    label_map = {\n",
        "        False: \"False\",\n",
        "        True: \"True\"\n",
        "    }\n",
        "\n",
        "    return label_map[prediction[0]]"
      ]
    },
    {
      "cell_type": "code",
      "execution_count": 10,
      "metadata": {
        "colab": {
          "base_uri": "https://localhost:8080/"
        },
        "id": "Z0mqOGncFva2",
        "outputId": "e7363cdf-5896-4d35-ead6-b3d1011036c4"
      },
      "outputs": [
        {
          "output_type": "stream",
          "name": "stdout",
          "text": [
            "The model predicts that the statement is: True\n"
          ]
        }
      ],
      "source": [
        "input_sentence = \"The economic turnaround started at the end of my term.\"\n",
        "result = predict_truthfulness(input_sentence)\n",
        "print(f\"The model predicts that the statement is: {result}\")"
      ]
    },
    {
      "cell_type": "markdown",
      "metadata": {
        "id": "-x51HMsbIaf1"
      },
      "source": [
        "**Model building with Gradient boosting**\n",
        "\n",
        "\n"
      ]
    },
    {
      "cell_type": "code",
      "execution_count": 11,
      "metadata": {
        "colab": {
          "base_uri": "https://localhost:8080/",
          "height": 211
        },
        "id": "t2bPglSQ4kvq",
        "outputId": "9a610553-0dbb-471e-fa9c-c9d240965942"
      },
      "outputs": [
        {
          "output_type": "error",
          "ename": "NameError",
          "evalue": "name 'GradientBoostingClassifier' is not defined",
          "traceback": [
            "\u001b[0;31m---------------------------------------------------------------------------\u001b[0m",
            "\u001b[0;31mNameError\u001b[0m                                 Traceback (most recent call last)",
            "\u001b[0;32m<ipython-input-11-f40ea99897cd>\u001b[0m in \u001b[0;36m<cell line: 1>\u001b[0;34m()\u001b[0m\n\u001b[0;32m----> 1\u001b[0;31m \u001b[0mmodel_gb\u001b[0m \u001b[0;34m=\u001b[0m \u001b[0mGradientBoostingClassifier\u001b[0m\u001b[0;34m(\u001b[0m\u001b[0mrandom_state\u001b[0m\u001b[0;34m=\u001b[0m\u001b[0;36m42\u001b[0m\u001b[0;34m)\u001b[0m\u001b[0;34m\u001b[0m\u001b[0;34m\u001b[0m\u001b[0m\n\u001b[0m\u001b[1;32m      2\u001b[0m \u001b[0mmodel_gb\u001b[0m\u001b[0;34m.\u001b[0m\u001b[0mfit\u001b[0m\u001b[0;34m(\u001b[0m\u001b[0mX_train\u001b[0m\u001b[0;34m,\u001b[0m \u001b[0my_train\u001b[0m\u001b[0;34m)\u001b[0m\u001b[0;34m\u001b[0m\u001b[0;34m\u001b[0m\u001b[0m\n\u001b[1;32m      3\u001b[0m \u001b[0;34m\u001b[0m\u001b[0m\n\u001b[1;32m      4\u001b[0m \u001b[0;32mwith\u001b[0m \u001b[0mopen\u001b[0m\u001b[0;34m(\u001b[0m\u001b[0;34m'gradient_boosting_model.pkl'\u001b[0m\u001b[0;34m,\u001b[0m \u001b[0;34m'wb'\u001b[0m\u001b[0;34m)\u001b[0m \u001b[0;32mas\u001b[0m \u001b[0mf\u001b[0m\u001b[0;34m:\u001b[0m\u001b[0;34m\u001b[0m\u001b[0;34m\u001b[0m\u001b[0m\n\u001b[1;32m      5\u001b[0m     \u001b[0mpickle\u001b[0m\u001b[0;34m.\u001b[0m\u001b[0mdump\u001b[0m\u001b[0;34m(\u001b[0m\u001b[0mmodel_gb\u001b[0m\u001b[0;34m,\u001b[0m \u001b[0mf\u001b[0m\u001b[0;34m)\u001b[0m\u001b[0;34m\u001b[0m\u001b[0;34m\u001b[0m\u001b[0m\n",
            "\u001b[0;31mNameError\u001b[0m: name 'GradientBoostingClassifier' is not defined"
          ]
        }
      ],
      "source": [
        "\n",
        "model_gb = GradientBoostingClassifier(random_state=42)\n",
        "model_gb.fit(X_train, y_train)\n",
        "\n",
        "with open('gradient_boosting_model.pkl', 'wb') as f:\n",
        "    pickle.dump(model_gb, f)\n",
        "\n",
        "print(\"Gradient Boosting model training complete.\")\n"
      ]
    },
    {
      "cell_type": "code",
      "execution_count": null,
      "metadata": {
        "colab": {
          "base_uri": "https://localhost:8080/"
        },
        "id": "79ZH_E_H5kDQ",
        "outputId": "3bfd492f-af45-4dc1-b611-5ce2bb577215"
      },
      "outputs": [
        {
          "name": "stdout",
          "output_type": "stream",
          "text": [
            "\n",
            "=== Evaluation Results ===\n",
            "Test Data Accuracy: 0.6072\n",
            "\n",
            "Test Data Classification Report:\n",
            "              precision    recall  f1-score      support\n",
            "False          0.601562  0.276978  0.379310   556.000000\n",
            "True           0.608569  0.859697  0.712657   727.000000\n",
            "accuracy       0.607171  0.607171  0.607171     0.607171\n",
            "macro avg      0.605066  0.568338  0.545984  1283.000000\n",
            "weighted avg   0.605532  0.607171  0.568198  1283.000000\n",
            "\n",
            "Validation Data Accuracy: 0.5966\n",
            "\n",
            "Validation Data Classification Report:\n",
            "              precision    recall  f1-score      support\n",
            "False          0.677536  0.303571  0.419283   616.000000\n",
            "True           0.574405  0.866766  0.690931   668.000000\n",
            "accuracy       0.596573  0.596573  0.596573     0.596573\n",
            "macro avg      0.625970  0.585169  0.555107  1284.000000\n",
            "weighted avg   0.623882  0.596573  0.560607  1284.000000\n"
          ]
        }
      ],
      "source": [
        "def evaluate_model(model_gb, X, y, dataset_name):\n",
        "    y_pred = model_gb.predict(X)\n",
        "    accuracy = accuracy_score(y, y_pred)\n",
        "    report = classification_report(y, y_pred, output_dict=True)\n",
        "    return accuracy, report\n",
        "test_accuracy, test_report = evaluate_model(model_gb, X_test, y_test, \"Test Data\")\n",
        "val_accuracy, val_report = evaluate_model(model_gb, X_val, y_val, \"Validation Data\")\n",
        "\n",
        "# Print Results\n",
        "print(\"\\n=== Evaluation Results ===\")\n",
        "print(f\"Test Data Accuracy: {test_accuracy:.4f}\")\n",
        "print(\"\\nTest Data Classification Report:\")\n",
        "print(pd.DataFrame(test_report).T)\n",
        "\n",
        "print(f\"\\nValidation Data Accuracy: {val_accuracy:.4f}\")\n",
        "print(\"\\nValidation Data Classification Report:\")\n",
        "print(pd.DataFrame(val_report).T)\n"
      ]
    },
    {
      "cell_type": "code",
      "source": [],
      "metadata": {
        "id": "XZme7ASsfqMI"
      },
      "execution_count": null,
      "outputs": []
    },
    {
      "cell_type": "markdown",
      "metadata": {
        "id": "Vn4kkDauImXR"
      },
      "source": [
        "**Model building with Passive Aggresie Model**"
      ]
    },
    {
      "cell_type": "code",
      "execution_count": 12,
      "metadata": {
        "id": "zdeQuMrX5rvN",
        "colab": {
          "base_uri": "https://localhost:8080/"
        },
        "outputId": "79d0102b-2198-46f4-824d-acd9af3337f2"
      },
      "outputs": [
        {
          "output_type": "stream",
          "name": "stdout",
          "text": [
            "Passive Aggressive model training complete.\n"
          ]
        }
      ],
      "source": [
        "# Training the Passive Aggressive model\n",
        "from sklearn.linear_model import PassiveAggressiveClassifier\n",
        "model_pa = PassiveAggressiveClassifier(random_state=42)\n",
        "model_pa.fit(X_train, y_train)\n",
        "\n",
        "# save the model\n",
        "with open('passive_aggressive_model.pkl', 'wb') as f:\n",
        "    pickle.dump(model_pa, f)\n",
        "\n",
        "print(\"Passive Aggressive model training complete.\")\n"
      ]
    },
    {
      "cell_type": "code",
      "execution_count": 13,
      "metadata": {
        "colab": {
          "base_uri": "https://localhost:8080/"
        },
        "id": "tRewxj5T51Bx",
        "outputId": "514160d9-2519-4b8a-f1ec-9f91f12ba665"
      },
      "outputs": [
        {
          "output_type": "stream",
          "name": "stdout",
          "text": [
            "\n",
            "=== Evaluation Results ===\n",
            "Test Data Accuracy: 0.6048\n",
            "\n",
            "Test Data Classification Report:\n",
            "              precision    recall  f1-score      support\n",
            "False          0.551363  0.473022  0.509197   556.000000\n",
            "True           0.636476  0.705640  0.669276   727.000000\n",
            "accuracy       0.604832  0.604832  0.604832     0.604832\n",
            "macro avg      0.593920  0.589331  0.589236  1283.000000\n",
            "weighted avg   0.599592  0.604832  0.599904  1283.000000\n",
            "\n",
            "Validation Data Accuracy: 0.5615\n",
            "\n",
            "Validation Data Classification Report:\n",
            "              precision    recall  f1-score      support\n",
            "False          0.553320  0.446429  0.494160   616.000000\n",
            "True           0.566709  0.667665  0.613058   668.000000\n",
            "accuracy       0.561526  0.561526  0.561526     0.561526\n",
            "macro avg      0.560014  0.557047  0.553609  1284.000000\n",
            "weighted avg   0.560286  0.561526  0.556017  1284.000000\n"
          ]
        }
      ],
      "source": [
        "def evaluate_model(model_pa, X, y, dataset_name):\n",
        "    y_pred = model_pa.predict(X)\n",
        "    accuracy = accuracy_score(y, y_pred)\n",
        "    report = classification_report(y, y_pred, output_dict=True)\n",
        "    return accuracy, report\n",
        "test_accuracy, test_report = evaluate_model(model_pa, X_test, y_test, \"Test Data\")\n",
        "val_accuracy, val_report = evaluate_model(model_pa, X_val, y_val, \"Validation Data\")\n",
        "\n",
        "print(\"\\n=== Evaluation Results ===\")\n",
        "print(f\"Test Data Accuracy: {test_accuracy:.4f}\")\n",
        "print(\"\\nTest Data Classification Report:\")\n",
        "print(pd.DataFrame(test_report).T)\n",
        "\n",
        "print(f\"\\nValidation Data Accuracy: {val_accuracy:.4f}\")\n",
        "print(\"\\nValidation Data Classification Report:\")\n",
        "print(pd.DataFrame(val_report).T)\n"
      ]
    },
    {
      "cell_type": "markdown",
      "metadata": {
        "id": "0DOS6S4RI6F1"
      },
      "source": [
        "****Model building with XGBoost model****"
      ]
    },
    {
      "cell_type": "code",
      "execution_count": 14,
      "metadata": {
        "colab": {
          "base_uri": "https://localhost:8080/"
        },
        "id": "U89TAga45_AW",
        "outputId": "44751b30-0b1c-4e7b-d680-db1e692ff261"
      },
      "outputs": [
        {
          "output_type": "stream",
          "name": "stderr",
          "text": [
            "/usr/local/lib/python3.10/dist-packages/xgboost/core.py:158: UserWarning: [18:37:08] WARNING: /workspace/src/learner.cc:740: \n",
            "Parameters: { \"use_label_encoder\" } are not used.\n",
            "\n",
            "  warnings.warn(smsg, UserWarning)\n"
          ]
        },
        {
          "output_type": "stream",
          "name": "stdout",
          "text": [
            "XGBoost model training complete.\n"
          ]
        }
      ],
      "source": [
        "import xgboost as xgb\n",
        "model_xgb = xgb.XGBClassifier(use_label_encoder=False, eval_metric='mlogloss', random_state=42)\n",
        "model_xgb.fit(X_train, y_train)\n",
        "with open('xgboost_model.pkl', 'wb') as f:\n",
        "    pickle.dump(model_xgb, f)\n",
        "\n",
        "print(\"XGBoost model training complete.\")\n"
      ]
    },
    {
      "cell_type": "code",
      "execution_count": 15,
      "metadata": {
        "colab": {
          "base_uri": "https://localhost:8080/"
        },
        "id": "8XCTHojI6ItJ",
        "outputId": "f483e917-3df7-4917-b348-44d9db631729"
      },
      "outputs": [
        {
          "output_type": "stream",
          "name": "stdout",
          "text": [
            "\n",
            "=== Evaluation Results ===\n",
            "Test Data Accuracy: 0.6048\n",
            "\n",
            "Test Data Classification Report:\n",
            "              precision    recall  f1-score      support\n",
            "False          0.558473  0.420863  0.480000   556.000000\n",
            "True           0.627315  0.745530  0.681332   727.000000\n",
            "accuracy       0.604832  0.604832  0.604832     0.604832\n",
            "macro avg      0.592894  0.583196  0.580666  1283.000000\n",
            "weighted avg   0.597481  0.604832  0.594083  1283.000000\n",
            "\n",
            "Validation Data Accuracy: 0.6316\n",
            "\n",
            "Validation Data Classification Report:\n",
            "              precision    recall  f1-score     support\n",
            "False          0.653105  0.495130  0.563250   616.00000\n",
            "True           0.619339  0.757485  0.681481   668.00000\n",
            "accuracy       0.631620  0.631620  0.631620     0.63162\n",
            "macro avg      0.636222  0.626307  0.622366  1284.00000\n",
            "weighted avg   0.635538  0.631620  0.624760  1284.00000\n"
          ]
        }
      ],
      "source": [
        "def evaluate_model(model_xgb, X, y, dataset_name):\n",
        "    y_pred = model_xgb.predict(X)\n",
        "    accuracy = accuracy_score(y, y_pred)\n",
        "    report = classification_report(y, y_pred, output_dict=True)\n",
        "    return accuracy, report\n",
        "test_accuracy, test_report = evaluate_model(model_xgb, X_test, y_test, \"Test Data\")\n",
        "val_accuracy, val_report = evaluate_model(model_xgb, X_val, y_val, \"Validation Data\")\n",
        "print(\"\\n=== Evaluation Results ===\")\n",
        "print(f\"Test Data Accuracy: {test_accuracy:.4f}\")\n",
        "print(\"\\nTest Data Classification Report:\")\n",
        "print(pd.DataFrame(test_report).T)\n",
        "\n",
        "print(f\"\\nValidation Data Accuracy: {val_accuracy:.4f}\")\n",
        "print(\"\\nValidation Data Classification Report:\")\n",
        "print(pd.DataFrame(val_report).T)\n"
      ]
    },
    {
      "cell_type": "code",
      "source": [
        "import matplotlib.pyplot as plt\n",
        "import pandas as pd\n",
        "import seaborn as sns\n",
        "\n",
        "# Function to evaluate a model and return performance metrics\n",
        "def evaluate_model(model, X, y, dataset_name):\n",
        "    y_pred = model.predict(X)\n",
        "    accuracy = accuracy_score(y, y_pred)\n",
        "    report = classification_report(y, y_pred, output_dict=True)\n",
        "    return accuracy, pd.DataFrame(report).T\n",
        "\n",
        "# Evaluate all models on Test and Validation datasets\n",
        "models = {\n",
        "    \"Random Forest\": model,\n",
        "    \"Passive Aggressive\": model_pa,\n",
        "    \"XGBoost\": model_xgb\n",
        "}\n",
        "\n",
        "results = {\n",
        "    \"Model\": [],\n",
        "    \"Dataset\": [],\n",
        "    \"Accuracy\": [],\n",
        "    \"Precision\": [],\n",
        "    \"Recall\": [],\n",
        "    \"F1-Score\": []\n",
        "}\n",
        "\n",
        "for model_name, model in models.items():\n",
        "    for dataset_name, (X, y) in {\n",
        "        \"Test Data\": (X_test, y_test),\n",
        "        \"Validation Data\": (X_val, y_val)\n",
        "    }.items():\n",
        "        accuracy, report = evaluate_model(model, X, y, dataset_name)\n",
        "        results[\"Model\"].append(model_name)\n",
        "        results[\"Dataset\"].append(dataset_name)\n",
        "        results[\"Accuracy\"].append(accuracy)\n",
        "        results[\"Precision\"].append(report.loc[\"weighted avg\", \"precision\"])\n",
        "        results[\"Recall\"].append(report.loc[\"weighted avg\", \"recall\"])\n",
        "        results[\"F1-Score\"].append(report.loc[\"weighted avg\", \"f1-score\"])\n",
        "\n",
        "# Convert results into a DataFrame\n",
        "results_df = pd.DataFrame(results)\n",
        "\n",
        "# Display the results as a table\n",
        "print(\"\\n=== Model Comparison Results ===\")\n",
        "print(results_df)\n",
        "\n",
        "# Plot the results\n",
        "sns.set(style=\"whitegrid\")\n",
        "fig, axes = plt.subplots(2, 2, figsize=(16, 12))\n",
        "\n",
        "# Accuracy comparison\n",
        "sns.barplot(data=results_df, x=\"Model\", y=\"Accuracy\", hue=\"Dataset\", ax=axes[0, 0])\n",
        "axes[0, 0].set_title(\"Model Accuracy Comparison\")\n",
        "axes[0, 0].set_ylim(0.5, 1)\n",
        "\n",
        "# Precision comparison\n",
        "sns.barplot(data=results_df, x=\"Model\", y=\"Precision\", hue=\"Dataset\", ax=axes[0, 1])\n",
        "axes[0, 1].set_title(\"Model Precision Comparison\")\n",
        "axes[0, 1].set_ylim(0.5, 1)\n",
        "\n",
        "# Recall comparison\n",
        "sns.barplot(data=results_df, x=\"Model\", y=\"Recall\", hue=\"Dataset\", ax=axes[1, 0])\n",
        "axes[1, 0].set_title(\"Model Recall Comparison\")\n",
        "axes[1, 0].set_ylim(0.5, 1)\n",
        "\n",
        "# F1-Score comparison\n",
        "sns.barplot(data=results_df, x=\"Model\", y=\"F1-Score\", hue=\"Dataset\", ax=axes[1, 1])\n",
        "axes[1, 1].set_title(\"Model F1-Score Comparison\")\n",
        "axes[1, 1].set_ylim(0.5, 1)\n",
        "\n",
        "# Adjust layout\n",
        "plt.tight_layout()\n",
        "plt.show()\n"
      ],
      "metadata": {
        "colab": {
          "base_uri": "https://localhost:8080/",
          "height": 1000
        },
        "id": "NUq-WfuIgVRY",
        "outputId": "6b8be2da-b6e4-4a7f-a16b-004df4ee70d2"
      },
      "execution_count": 18,
      "outputs": [
        {
          "output_type": "stream",
          "name": "stdout",
          "text": [
            "\n",
            "=== Model Comparison Results ===\n",
            "                Model          Dataset  Accuracy  Precision    Recall  \\\n",
            "0       Random Forest        Test Data  0.611847   0.604993  0.611847   \n",
            "1       Random Forest  Validation Data  0.624611   0.633503  0.624611   \n",
            "2  Passive Aggressive        Test Data  0.604832   0.599592  0.604832   \n",
            "3  Passive Aggressive  Validation Data  0.561526   0.560286  0.561526   \n",
            "4             XGBoost        Test Data  0.604832   0.597481  0.604832   \n",
            "5             XGBoost  Validation Data  0.631620   0.635538  0.631620   \n",
            "\n",
            "   F1-Score  \n",
            "0  0.600465  \n",
            "1  0.612227  \n",
            "2  0.599904  \n",
            "3  0.556017  \n",
            "4  0.594083  \n",
            "5  0.624760  \n"
          ]
        },
        {
          "output_type": "display_data",
          "data": {
            "text/plain": [
              "<Figure size 1600x1200 with 4 Axes>"
            ],
            "image/png": "[encoded data removed]"
          },
          "metadata": {}
        }
      ]
    },
    {
      "cell_type": "code",
      "source": [
        "import matplotlib.pyplot as plt\n",
        "import seaborn as sns\n",
        "from sklearn.metrics import confusion_matrix\n",
        "\n",
        "# List of models to evaluate\n",
        "models = {\n",
        "    \"Random Forest\": model,\n",
        "    \"Passive Aggressive\": model_pa,\n",
        "    \"XGBoost\": model_xgb\n",
        "}\n",
        "\n",
        "# Create a figure for the confusion matrices\n",
        "fig, axes = plt.subplots(1, 3, figsize=(18, 6))\n",
        "\n",
        "# Loop through each model and plot the confusion matrix\n",
        "for i, (model_name, model) in enumerate(models.items()):\n",
        "    # Predict on the test data\n",
        "    y_pred = model.predict(X_test)\n",
        "\n",
        "    # Compute the confusion matrix\n",
        "    conf_matrix = confusion_matrix(y_test, y_pred)\n",
        "\n",
        "    # Plot confusion matrix as heatmap\n",
        "    sns.heatmap(conf_matrix, annot=True, fmt=\"d\", cmap=\"Blues\", ax=axes[i],\n",
        "                cbar=False, xticklabels=model.classes_, yticklabels=model.classes_)\n",
        "    axes[i].set_title(f\"Confusion Matrix: {model_name}\")\n",
        "    axes[i].set_xlabel('Predicted')\n",
        "    axes[i].set_ylabel('True')\n",
        "\n",
        "# Adjust layout\n",
        "plt.tight_layout()\n",
        "plt.show()\n"
      ],
      "metadata": {
        "colab": {
          "base_uri": "https://localhost:8080/",
          "height": 398
        },
        "id": "GtY2fQeUh-qM",
        "outputId": "ba0b4a60-59cd-47a2-ac61-969cf8faa46f"
      },
      "execution_count": 16,
      "outputs": [
        {
          "output_type": "display_data",
          "data": {
            "text/plain": [
              "<Figure size 1800x600 with 3 Axes>"
            ],
            "image/png": "[encoded data removed]"
          },
          "metadata": {}
        }
      ]
    },
    {
      "cell_type": "code",
      "source": [],
      "metadata": {
        "id": "MEaF78UjjIo2"
      },
      "execution_count": null,
      "outputs": []
    },
    {
      "cell_type": "markdown",
      "metadata": {
        "id": "fdFNH2u8JDk2"
      },
      "source": [
        "**Including Entity Recognition,Sentiment Analysis,POS tagging**"
      ]
    },
    {
      "cell_type": "code",
      "execution_count": null,
      "metadata": {
        "id": "XQtoFg0F8A0i"
      },
      "outputs": [],
      "source": [
        "# Load the spaCy model\n",
        "nlp = spacy.load('en_core_web_sm')"
      ]
    },
    {
      "cell_type": "code",
      "execution_count": null,
      "metadata": {
        "id": "AElZLAFU9JxI"
      },
      "outputs": [],
      "source": [
        "# Custom Transformer for NER\n",
        "class NERExtractor(BaseEstimator, TransformerMixin):\n",
        "    def fit(self, X, y=None):\n",
        "        return self\n",
        "\n",
        "    def transform(self, X):\n",
        "        return [[ent.label_ for ent in nlp(text).ents] for text in X]"
      ]
    },
    {
      "cell_type": "code",
      "execution_count": null,
      "metadata": {
        "id": "IY27ndu_9VtD"
      },
      "outputs": [],
      "source": [
        "# Custom Transformer for Sentiment Analysis\n",
        "class SentimentExtractor(BaseEstimator, TransformerMixin):\n",
        "    def fit(self, X, y=None):\n",
        "        return self\n",
        "\n",
        "    def transform(self, X):\n",
        "        return [[TextBlob(text).sentiment.polarity] for text in X]"
      ]
    },
    {
      "cell_type": "code",
      "execution_count": null,
      "metadata": {
        "id": "RdlsxGRw9XuN"
      },
      "outputs": [],
      "source": [
        "# Create a DataFrame to hold the additional features\n",
        "train_data['sentiment'] = [TextBlob(claim).sentiment.polarity for claim in train_data['claim']]\n",
        "train_data['ner'] = [len(nlp(claim).ents) for claim in train_data['claim']]\n",
        "test_data['sentiment'] = [TextBlob(claim).sentiment.polarity for claim in test_data['claim']]\n",
        "test_data['ner'] = [len(nlp(claim).ents) for claim in test_data['claim']]\n",
        "val_data['sentiment'] = [TextBlob(claim).sentiment.polarity for claim in val_data['claim']]\n",
        "val_data['ner'] = [len(nlp(claim).ents) for claim in val_data['claim']]"
      ]
    },
    {
      "cell_type": "code",
      "execution_count": null,
      "metadata": {
        "id": "ybYLhGm69hms"
      },
      "outputs": [],
      "source": [
        "# Train features and labels\n",
        "X_train = pd.concat([pd.DataFrame(X_train), train_data[['sentiment', 'ner']]], axis=1)\n",
        "y_train = train_data['label']\n",
        "\n",
        "X_test = pd.concat([pd.DataFrame(X_test), test_data[['sentiment', 'ner']]], axis=1)\n",
        "y_test = test_data['label']\n",
        "\n",
        "X_val = pd.concat([pd.DataFrame(X_val), val_data[['sentiment', 'ner']]], axis=1)\n",
        "y_val = val_data['label']"
      ]
    },
    {
      "cell_type": "code",
      "execution_count": null,
      "metadata": {
        "id": "4z8Kb9ua-LN6"
      },
      "outputs": [],
      "source": [
        "# Modify DataFrame to hold the additional features\n",
        "train_data['sentiment'] = [TextBlob(claim).sentiment.polarity for claim in train_data['claim']]\n",
        "train_data['ner'] = [len(nlp(claim).ents) for claim in train_data['claim']]\n",
        "test_data['sentiment'] = [TextBlob(claim).sentiment.polarity for claim in test_data['claim']]\n",
        "test_data['ner'] = [len(nlp(claim).ents) for claim in test_data['claim']]\n",
        "val_data['sentiment'] = [TextBlob(claim).sentiment.polarity for claim in val_data['claim']]\n",
        "val_data['ner'] = [len(nlp(claim).ents) for claim in val_data['claim']]"
      ]
    },
    {
      "cell_type": "code",
      "execution_count": null,
      "metadata": {
        "id": "GY5kUq3f-oGI"
      },
      "outputs": [],
      "source": [
        "# Train features and labels\n",
        "X_train = pd.concat([pd.DataFrame(X_train), train_data[['sentiment', 'ner']]], axis=1)\n",
        "y_train = train_data['label']\n",
        "\n",
        "X_test = pd.concat([pd.DataFrame(X_test), test_data[['sentiment', 'ner']]], axis=1)\n",
        "y_test = test_data['label']\n",
        "\n",
        "X_val = pd.concat([pd.DataFrame(X_val), val_data[['sentiment', 'ner']]], axis=1)\n",
        "y_val = val_data['label']"
      ]
    },
    {
      "cell_type": "code",
      "execution_count": null,
      "metadata": {
        "id": "ObkikoSq_SXU"
      },
      "outputs": [],
      "source": [
        "X_train = X_train.astype(float)\n",
        "X_test = X_test.astype(float)\n",
        "X_val = X_val.astype(float)"
      ]
    },
    {
      "cell_type": "code",
      "execution_count": null,
      "metadata": {
        "id": "SDTl3g-R_sN5"
      },
      "outputs": [],
      "source": [
        "# Encode the labels\n",
        "label_encoder = LabelEncoder()\n",
        "y_train = label_encoder.fit_transform(y_train)\n",
        "y_test = label_encoder.transform(y_test)\n",
        "y_val = label_encoder.transform(y_val)\n",
        "X_train.columns = X_train.columns.astype(str)\n",
        "X_test.columns = X_test.columns.astype(str)\n",
        "X_val.columns = X_val.columns.astype(str)"
      ]
    },
    {
      "cell_type": "code",
      "execution_count": null,
      "metadata": {
        "id": "uEf6c4x4Aa3q"
      },
      "outputs": [],
      "source": [
        "\n",
        "model = RandomForestClassifier(n_estimators=100, random_state=42)\n",
        "model.fit(X_train, y_train)\n",
        "\n",
        "# Optionally save the model\n",
        "with open('random_forest_model_with_nlp.pkl', 'wb') as f:\n",
        "    pickle.dump(model, f)\n"
      ]
    },
    {
      "cell_type": "code",
      "execution_count": null,
      "metadata": {
        "colab": {
          "base_uri": "https://localhost:8080/"
        },
        "id": "Eg6oRbf3CFbD",
        "outputId": "1b260b1a-f5ad-4c25-d715-d61c0b88a736"
      },
      "outputs": [
        {
          "name": "stdout",
          "output_type": "stream",
          "text": [
            "\n",
            "=== Evaluation Results ===\n",
            "Test Data Accuracy: 0.2471\n",
            "\n",
            "Test Data Classification Report:\n",
            "              precision    recall  f1-score      support\n",
            "0              0.252747  0.107477  0.150820   214.000000\n",
            "1              0.261959  0.460000  0.333817   250.000000\n",
            "2              0.236842  0.303371  0.266010   267.000000\n",
            "3              0.226804  0.265060  0.244444   249.000000\n",
            "4              0.571429  0.043478  0.080808    92.000000\n",
            "5              0.247788  0.132701  0.172840   211.000000\n",
            "accuracy       0.247077  0.247077  0.247077     0.247077\n",
            "macro avg      0.299595  0.218681  0.208123  1283.000000\n",
            "weighted avg   0.268233  0.247077  0.227221  1283.000000\n",
            "\n",
            "Validation Data Accuracy: 0.2484\n",
            "\n",
            "Validation Data Classification Report:\n",
            "              precision    recall  f1-score      support\n",
            "0              0.242857  0.143460  0.180371   237.000000\n",
            "1              0.263852  0.380228  0.311526   263.000000\n",
            "2              0.248538  0.342742  0.288136   248.000000\n",
            "3              0.241497  0.282869  0.260550   251.000000\n",
            "4              0.318182  0.060345  0.101449   116.000000\n",
            "5              0.205607  0.130178  0.159420   169.000000\n",
            "accuracy       0.248442  0.248442  0.248442     0.248442\n",
            "macro avg      0.253422  0.223303  0.216909  1284.000000\n",
            "weighted avg   0.249891  0.248442  0.233836  1284.000000\n"
          ]
        }
      ],
      "source": [
        "def evaluate_model(model, X, y, dataset_name):\n",
        "    y_pred = model.predict(X)\n",
        "    accuracy = accuracy_score(y, y_pred)\n",
        "    report = classification_report(y, y_pred, output_dict=True)  # Get the report as a dictionary\n",
        "    return accuracy, report\n",
        "# Evaluate the model on test and validation data\n",
        "test_accuracy, test_report = evaluate_model(model, X_test, y_test, \"Test Data\")\n",
        "val_accuracy, val_report = evaluate_model(model, X_val, y_val, \"Validation Data\")\n",
        "\n",
        "# Print Results\n",
        "print(\"\\n=== Evaluation Results ===\")\n",
        "print(f\"Test Data Accuracy: {test_accuracy:.4f}\")\n",
        "print(\"\\nTest Data Classification Report:\")\n",
        "print(pd.DataFrame(test_report).T)\n",
        "\n",
        "print(f\"\\nValidation Data Accuracy: {val_accuracy:.4f}\")\n",
        "print(\"\\nValidation Data Classification Report:\")\n",
        "print(pd.DataFrame(val_report).T)\n"
      ]
    },
    {
      "cell_type": "code",
      "execution_count": null,
      "metadata": {
        "id": "b7L5vp5RDDNT"
      },
      "outputs": [],
      "source": []
    }
  ],
  "metadata": {
    "colab": {
      "provenance": []
    },
    "kernelspec": {
      "display_name": "Python 3",
      "name": "python3"
    },
    "language_info": {
      "codemirror_mode": {
        "name": "ipython",
        "version": 3
      },
      "file_extension": ".py",
      "mimetype": "text/x-python",
      "name": "python",
      "nbconvert_exporter": "python",
      "pygments_lexer": "ipython3",
      "version": "3.12.1"
    }
  },
  "nbformat": 4,
  "nbformat_minor": 0
}